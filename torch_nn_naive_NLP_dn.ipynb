{
 "cells": [
  {
   "cell_type": "code",
   "execution_count": 10,
   "id": "0951d8db",
   "metadata": {
    "scrolled": false
   },
   "outputs": [
    {
     "name": "stdout",
     "output_type": "stream",
     "text": [
      "[(['of', 'Development'], 'a'), (['a', 'of'], 'Future'), (['Future', 'a'], 'Risk')]\n",
      "the loss is:[294.75642561912537, 291.99520921707153, 289.2646527290344, 286.5657856464386, 283.88757252693176, 281.2272951602936, 278.57863116264343, 275.9407570362091, 273.31093740463257, 270.69440722465515]\n",
      "tensor([ 0.3000, -0.1527, -1.5835, -0.6231,  1.3041,  0.4765, -0.8786, -1.6595,\n",
      "         0.5570,  1.2145,  0.1724,  0.1509,  1.5209,  0.2957,  0.6320, -0.2658,\n",
      "        -0.2190, -0.9276,  0.1965, -0.7335,  0.8411, -0.1541, -0.0806,  0.2923,\n",
      "        -0.4367,  0.3356,  0.5590,  2.3130,  0.0489,  0.2435,  1.6229,  0.1675,\n",
      "        -0.7811,  1.0074,  1.6040, -1.3267, -0.4023,  1.6042,  0.4359, -0.1282,\n",
      "        -1.0770,  1.1537,  0.8967, -0.6429, -1.1614, -0.8552,  0.3006,  0.2418,\n",
      "        -0.8400, -0.9485], grad_fn=<SelectBackward0>)\n"
     ]
    }
   ],
   "source": [
    "import torch\n",
    "import torch.nn as nn\n",
    "import torch.nn.functional as F\n",
    "import torch.optim as optim\n",
    "\n",
    "CONTEXT_SIZE = 2\n",
    "EMBEDDING_DIM = 50\n",
    "\n",
    "input_text = \"\"\"Development of a Future Risk Assessment Model for Financing Applicants\n",
    "This document details the development of a future risk assessment model for financing applicants, \n",
    "commissioned by Blank Bank from Tripleedata.com. The document outlines the specific procedures employed \n",
    "and the results obtained throughout the model development process. Key steps and parameters are highlighted, including \n",
    "sample design, exclusion criteria, and the model development methodologies utilized. Additionally, relevant tables and \n",
    "reports are incorporated to summarize the findings.\"\"\"\n",
    "test_sentence = input_text.split()\n",
    "\n",
    "# we should tokenize the input, but we will ignore that for now\n",
    "# build a list of tuples.\n",
    "# Each tuple is ([ word_i-CONTEXT_SIZE, ..., word_i-1 ], target word)\n",
    "ngrams = [\n",
    "    (\n",
    "        [test_sentence[i - j - 1] for j in range(CONTEXT_SIZE)],\n",
    "        test_sentence[i]\n",
    "    )\n",
    "    for i in range(CONTEXT_SIZE, len(test_sentence))\n",
    "]\n",
    "# Print the first 3, just so you can see what they look like.\n",
    "print(ngrams[:3])\n",
    "\n",
    "vocab = set(test_sentence)\n",
    "word_to_ix = {word: i for i, word in enumerate(vocab)}\n",
    "\n",
    "\n",
    "class NGramLanguageModeler(nn.Module):\n",
    "\n",
    "    def __init__(self, vocab_size, embedding_dim, context_size):\n",
    "        super(NGramLanguageModeler, self).__init__()\n",
    "        self.embeddings = nn.Embedding(vocab_size, embedding_dim)\n",
    "        self.linear1 = nn.Linear(context_size * embedding_dim, 128)\n",
    "        self.linear2 = nn.Linear(128, vocab_size)\n",
    "\n",
    "    def forward(self, inputs):\n",
    "        embeds = self.embeddings(inputs).view((1, -1))\n",
    "        out = F.relu(self.linear1(embeds))\n",
    "        out = self.linear2(out)\n",
    "        log_probs = F.log_softmax(out, dim=1)\n",
    "        return log_probs\n",
    "\n",
    "\n",
    "losses = []\n",
    "loss_function = nn.NLLLoss()\n",
    "model = NGramLanguageModeler(len(vocab), EMBEDDING_DIM, CONTEXT_SIZE)\n",
    "optimizer = optim.SGD(model.parameters(), lr=0.001)\n",
    "\n",
    "for epoch in range(10):\n",
    "    total_loss = 0\n",
    "    for context, target in ngrams:\n",
    "\n",
    "        # Step 1. Prepare the inputs to be passed to the model (i.e, turn the words\n",
    "        # into integer indices and wrap them in tensors)\n",
    "        context_idxs = torch.tensor([word_to_ix[w] for w in context], dtype=torch.long)\n",
    "\n",
    "        # Step 2. Recall that torch *accumulates* gradients. Before passing in a\n",
    "        # new instance, you need to zero out the gradients from the old instance\n",
    "        model.zero_grad()\n",
    "\n",
    "        # Step 3. Run the forward pass, getting log probabilities over next\n",
    "        # words\n",
    "        log_probs = model(context_idxs)\n",
    "\n",
    "        # Step 4. Compute your loss function. (Again, Torch wants the target\n",
    "        # word wrapped in a tensor)\n",
    "        loss = loss_function(log_probs, torch.tensor([word_to_ix[target]], dtype=torch.long))\n",
    "\n",
    "        # Step 5. Do the backward pass and update the gradient\n",
    "        loss.backward()\n",
    "        optimizer.step()\n",
    "\n",
    "        # Get the Python number from a 1-element Tensor by calling tensor.item()\n",
    "        total_loss += loss.item()\n",
    "    losses.append(total_loss)\n",
    "print(f'the loss is:{losses}')  # The loss decreased every iteration over the training data!\n",
    "\n",
    "# To get the embedding of a particular word, e.g. \"outlines\"\n",
    "print(model.embeddings.weight[word_to_ix[\"outlines\"]])"
   ]
  },
  {
   "cell_type": "code",
   "execution_count": null,
   "id": "492e5b07",
   "metadata": {},
   "outputs": [],
   "source": [
    "## End"
   ]
  }
 ],
 "metadata": {
  "kernelspec": {
   "display_name": "Python 3 (ipykernel)",
   "language": "python",
   "name": "python3"
  },
  "language_info": {
   "codemirror_mode": {
    "name": "ipython",
    "version": 3
   },
   "file_extension": ".py",
   "mimetype": "text/x-python",
   "name": "python",
   "nbconvert_exporter": "python",
   "pygments_lexer": "ipython3",
   "version": "3.9.13"
  }
 },
 "nbformat": 4,
 "nbformat_minor": 5
}
